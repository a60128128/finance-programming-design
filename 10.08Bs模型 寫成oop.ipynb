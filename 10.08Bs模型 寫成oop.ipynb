{
 "cells": [
  {
   "cell_type": "code",
   "execution_count": 5,
   "metadata": {
    "collapsed": false
   },
   "outputs": [],
   "source": [
    "class  BSmodel:\n",
    "    def __init__(self,S0,K,r,T,Sigma,div=0):\n",
    "        self.id=id\n",
    "        self.S0=S0  #S0: 標的資產的股價 I\n",
    "        self.K = K\n",
    "        self.r = r\n",
    "        self.T =T\n",
    "        self.Sigma = Sigma\n",
    "        self.div=div\n",
    "        \n",
    "    def Princing_d1(self):\n",
    "        from math import log,sqrt,exp\n",
    "        from scipy import stats\n",
    "        C0 = (log(S0 / K) + (r + 0.5 * Sigma ** 2) * T) / (Sigma * sqrt(T))    \n",
    "        ValMethod = 'AF'\n",
    "        self.display(ValMethod, C0)\n",
    "        \n",
    "    def Princing_d2(self):\n",
    "        from math import log,sqrt,exp\n",
    "        from scipy import stats\n",
    "        C0 = (log(S0 / K) + (r - 0.5 * Sigma ** 2) * T) / (Sigma * sqrt(T))  \n",
    "        ValMethod = 'BF'\n",
    "        self.display(ValMethod, C0)\n",
    "        \n",
    "    def Call_Princing_BSM(self):\n",
    "        from math import log,sqrt,exp\n",
    "        from scipy import stats\n",
    "        d1 = (log(S0 / K) + (r + 0.5 * Sigma ** 2) * T) / (Sigma * sqrt(T))\n",
    "        d2 = (log(S0 / K) + (r - 0.5 * Sigma ** 2) * T) / (Sigma * sqrt(T))\n",
    "        C0 = (S0 * stats.norm.cdf(d1, 0, 1)) - K * exp(-r * T) * stats.norm.cdf(d2, 0, 1)\n",
    "        ValMethod = 'CF'\n",
    "        self.display(ValMethod, C0)\n",
    "    \n",
    "    def Put_Princing_BSM(self):\n",
    "        from math import log,sqrt,exp\n",
    "        from scipy import stats\n",
    "        d1 = (log(S0 / K) + (r + 0.5 * Sigma ** 2) * T) / (Sigma * sqrt(T))\n",
    "        d2 = (log(S0 / K) + (r - 0.5 * Sigma ** 2) * T) / (Sigma * sqrt(T))\n",
    "        C0= K * exp(-r * T) * stats.norm.cdf(-d2, 0, 1)-(S0 * stats.norm.cdf(-d1, 0, 1)) \n",
    "        ValMethod = 'PF'\n",
    "        self.display(ValMethod, C0)\n",
    "   \n",
    "    def display(self,ValMethod,C0):\n",
    "        if ValMethod == 'CF':\n",
    "            print ('Call(' + ValMethod + '):' + str(C0))\n",
    "        elif ValMethod =='PF':\n",
    "            print ('Put(' + ValMethod + '):' + str(C0))\n",
    "        elif ValMethod =='AF':\n",
    "            print ('d1(' + ValMethod + '):' + str(C0))\n",
    "        elif ValMethod =='BF':\n",
    "            print ('d2(' + ValMethod + '):' + str(C0))"
   ]
  },
  {
   "cell_type": "code",
   "execution_count": 6,
   "metadata": {
    "collapsed": false
   },
   "outputs": [
    {
     "name": "stdout",
     "output_type": "stream",
     "text": [
      "Call(CF):8.02135223514\n",
      "Put(PF):7.90044180772\n",
      "d1(AF):0.10604917915283975\n",
      "d2(BF):-0.09395082084716028\n"
     ]
    }
   ],
   "source": [
    "S0 = 100\n",
    "K = 105\n",
    "r = 0.05\n",
    "T = 1\n",
    "Sigma = 0.2\n",
    "\n",
    "\n",
    "BS = BSmodel(S0,K,r,T,Sigma)\n",
    "BS.Call_Princing_BSM()\n",
    "BS.Put_Princing_BSM()\n",
    "BS.Princing_d1()\n",
    "BS.Princing_d2()"
   ]
  },
  {
   "cell_type": "code",
   "execution_count": null,
   "metadata": {
    "collapsed": true
   },
   "outputs": [],
   "source": []
  }
 ],
 "metadata": {
  "anaconda-cloud": {},
  "kernelspec": {
   "display_name": "Python [Root]",
   "language": "python",
   "name": "Python [Root]"
  },
  "language_info": {
   "codemirror_mode": {
    "name": "ipython",
    "version": 3
   },
   "file_extension": ".py",
   "mimetype": "text/x-python",
   "name": "python",
   "nbconvert_exporter": "python",
   "pygments_lexer": "ipython3",
   "version": "3.5.2"
  }
 },
 "nbformat": 4,
 "nbformat_minor": 0
}
